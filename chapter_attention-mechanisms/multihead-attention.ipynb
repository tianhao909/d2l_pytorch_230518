{
 "cells": [
  {
   "attachments": {},
   "cell_type": "markdown",
   "id": "f6787afb",
   "metadata": {
    "origin_pos": 0
   },
   "source": [
    "# 多头注意力\n",
    ":label:`sec_multihead-attention`\n",
    "\n",
    "在实践中，当给定相同的查询、键和值的集合时，\n",
    "我们希望模型可以基于相同的注意力机制学习到不同的行为，\n",
    "然后将不同的行为作为知识组合起来，\n",
    "捕获序列内各种范围的依赖关系\n",
    "（例如，短距离依赖和长距离依赖关系）。\n",
    "因此，允许注意力机制组合使用查询、键和值的不同\n",
    "*子空间表示*（representation subspaces）可能是有益的。\n",
    "\n",
    "为此，与其只使用单独一个注意力汇聚，\n",
    "我们可以用独立学习得到的$h$组不同的\n",
    "*线性投影*（linear projections）来变换查询、键和值。\n",
    "然后，这$h$组变换后的查询、键和值将并行地送到注意力汇聚中。\n",
    "最后，将这$h$个注意力汇聚的输出拼接在一起，\n",
    "并且通过另一个可以学习的线性投影进行变换，\n",
    "以产生最终输出。\n",
    "这种设计被称为*多头注意力*（multihead attention）\n",
    " :cite:`Vaswani.Shazeer.Parmar.ea.2017`。\n",
    "对于$h$个注意力汇聚输出，每一个注意力汇聚都被称作一个*头*（head）。\n",
    " :numref:`fig_multi-head-attention`\n",
    "展示了使用全连接层来实现可学习的线性变换的多头注意力。\n",
    "\n",
    "![多头注意力：多个头连结然后线性变换](../img/multi-head-attention.svg)\n",
    ":label:`fig_multi-head-attention`\n",
    "\n",
    "## 模型\n",
    "\n",
    "在实现多头注意力之前，让我们用数学语言将这个模型形式化地描述出来。\n",
    "给定查询$\\mathbf{q} \\in \\mathbb{R}^{d_q}$、\n",
    "键$\\mathbf{k} \\in \\mathbb{R}^{d_k}$和\n",
    "值$\\mathbf{v} \\in \\mathbb{R}^{d_v}$，\n",
    "每个注意力头$\\mathbf{h}_i$（$i = 1, \\ldots, h$）的计算方法为：\n",
    "\n",
    "$$\\mathbf{h}_i = f(\\mathbf W_i^{(q)}\\mathbf q, \\mathbf W_i^{(k)}\\mathbf k,\\mathbf W_i^{(v)}\\mathbf v) \\in \\mathbb R^{p_v},$$\n",
    "\n",
    "其中，可学习的参数包括\n",
    "$\\mathbf W_i^{(q)}\\in\\mathbb R^{p_q\\times d_q}$、\n",
    "$\\mathbf W_i^{(k)}\\in\\mathbb R^{p_k\\times d_k}$和\n",
    "$\\mathbf W_i^{(v)}\\in\\mathbb R^{p_v\\times d_v}$，\n",
    "以及代表注意力汇聚的函数$f$。\n",
    "$f$可以是 :numref:`sec_attention-scoring-functions`中的\n",
    "加性注意力和缩放点积注意力。\n",
    "多头注意力的输出需要经过另一个线性转换，\n",
    "它对应着$h$个头连结后的结果，因此其可学习参数是\n",
    "$\\mathbf W_o\\in\\mathbb R^{p_o\\times h p_v}$：\n",
    "\n",
    "$$\\mathbf W_o \\begin{bmatrix}\\mathbf h_1\\\\\\vdots\\\\\\mathbf h_h\\end{bmatrix} \\in \\mathbb{R}^{p_o}.$$\n",
    "\n",
    "基于这种设计，每个头都可能会关注输入的不同部分，\n",
    "可以表示比简单加权平均值更复杂的函数。\n"
   ]
  },
  {
   "cell_type": "code",
   "execution_count": 1,
   "id": "23568774",
   "metadata": {
    "execution": {
     "iopub.execute_input": "2022-12-07T16:54:02.679903Z",
     "iopub.status.busy": "2022-12-07T16:54:02.679345Z",
     "iopub.status.idle": "2022-12-07T16:54:04.937385Z",
     "shell.execute_reply": "2022-12-07T16:54:04.936235Z"
    },
    "origin_pos": 2,
    "tab": [
     "pytorch"
    ]
   },
   "outputs": [],
   "source": [
    "import math\n",
    "import torch\n",
    "from torch import nn\n",
    "from d2l import torch as d2l"
   ]
  },
  {
   "attachments": {},
   "cell_type": "markdown",
   "id": "1e067395",
   "metadata": {
    "origin_pos": 5
   },
   "source": [
    "## 实现\n",
    "\n",
    "在实现过程中通常[**选择缩放点积注意力作为每一个注意力头**]。\n",
    "为了避免计算代价和参数代价的大幅增长，\n",
    "我们设定$p_q = p_k = p_v = p_o / h$。\n",
    "值得注意的是，如果将查询、键和值的线性变换的输出数量设置为\n",
    "$p_q h = p_k h = p_v h = p_o$，\n",
    "则可以并行计算$h$个头。\n",
    "在下面的实现中，$p_o$是通过参数`num_hiddens`指定的。\n"
   ]
  },
  {
   "cell_type": "code",
   "execution_count": 2,
   "id": "59bfd2ef",
   "metadata": {
    "execution": {
     "iopub.execute_input": "2022-12-07T16:54:04.941737Z",
     "iopub.status.busy": "2022-12-07T16:54:04.941358Z",
     "iopub.status.idle": "2022-12-07T16:54:04.951008Z",
     "shell.execute_reply": "2022-12-07T16:54:04.949891Z"
    },
    "origin_pos": 7,
    "tab": [
     "pytorch"
    ]
   },
   "outputs": [],
   "source": [
    "#@save\n",
    "# 该代码定义了一个多头注意力模块 MultiHeadAttention，用于将输入的查询、键和值进行多头注意力计算。\n",
    "class MultiHeadAttention(nn.Module):\n",
    "    \"\"\"多头注意力\"\"\"\n",
    "    # 在初始化函数中，模块接收关键大小 key_size、查询大小 query_size、值大小 value_size、隐藏状态大小 num_hiddens、头数 num_heads、dropout概率 dropout 等参数。\n",
    "    # 模块内部包含多个线性变换层，用于对查询、键和值进行线性变换。\n",
    "    def __init__(self, key_size, query_size, value_size, num_hiddens,\n",
    "                 num_heads, dropout, bias=False, **kwargs):\n",
    "        super(MultiHeadAttention, self).__init__(**kwargs)\n",
    "        self.num_heads = num_heads\n",
    "        self.attention = d2l.DotProductAttention(dropout)\n",
    "        self.W_q = nn.Linear(query_size, num_hiddens, bias=bias)\n",
    "        self.W_k = nn.Linear(key_size, num_hiddens, bias=bias)\n",
    "        self.W_v = nn.Linear(value_size, num_hiddens, bias=bias)\n",
    "        self.W_o = nn.Linear(num_hiddens, num_hiddens, bias=bias)\n",
    "\n",
    "    # 在前向传播函数中，模块首先对输入的查询、键和值进行线性变换，并将它们进行多头切分。\n",
    "    # 然后，利用 d2l.DotProductAttention 模块计算多头注意力。\n",
    "    # 如果给定了有效长度 valid_lens，则在进行多头注意力计算时考虑有效长度。最后，将多头注意力的输出进行逆变换和线性变换，得到最终的输出。\n",
    "    def forward(self, queries, keys, values, valid_lens):\n",
    "        # queries，keys，values的形状:\n",
    "        # (batch_size，查询或者“键－值”对的个数，num_hiddens)\n",
    "        # valid_lens　的形状:\n",
    "        # (batch_size，)或(batch_size，查询的个数)\n",
    "        # 经过变换后，输出的queries，keys，values　的形状:\n",
    "        # (batch_size*num_heads，查询或者“键－值”对的个数，\n",
    "        # num_hiddens/num_heads)\n",
    "        \n",
    "        # 接下来，通过线性变换层 self.W_q 对查询 queries 进行线性变换，\n",
    "        # 并使用辅助函数 transpose_qkv 进行维度调整，\n",
    "        # 将查询的形状调整为 (batch_size*num_heads, 查询或者\"键－值\"对的个数, num_hiddens/num_heads)。\n",
    "        # 同样地，对键 keys 和值 values 进行线性变换，并使用辅助函数 transpose_qkv 进行维度调整。\n",
    "        queries = transpose_qkv(self.W_q(queries), self.num_heads)\n",
    "        keys = transpose_qkv(self.W_k(keys), self.num_heads)\n",
    "        values = transpose_qkv(self.W_v(values), self.num_heads)\n",
    "\n",
    "        # 如果给定了有效长度 valid_lens，则使用 torch.repeat_interleave 将其在轴0上进行复制，以适应多头注意力计算中的维度要求。复制的次数为 num_heads。\n",
    "        if valid_lens is not None:\n",
    "            # 在轴0，将第一项（标量或者矢量）复制num_heads次，\n",
    "            # 然后如此复制第二项，然后诸如此类。\n",
    "            valid_lens = torch.repeat_interleave(\n",
    "                valid_lens, repeats=self.num_heads, dim=0)\n",
    "\n",
    "        # 使用多头注意力模块 self.attention 计算多头注意力。注意力计算的输出 output 的形状为 (batch_size*num_heads, 查询的个数, num_hiddens/num_heads)。\n",
    "        # output的形状:(batch_size*num_heads，查询的个数，\n",
    "        # num_hiddens/num_heads)\n",
    "        output = self.attention(queries, keys, values, valid_lens)\n",
    "\n",
    "        # 最后，使用辅助函数 transpose_output 进行逆变换，将输出的形状调整为 (batch_size, 查询的个数, num_hiddens)。然后，通过线性变换层 self.W_o 对输出进行线性变换，并返回最终的输出结果。\n",
    "        # output_concat的形状:(batch_size，查询的个数，num_hiddens)\n",
    "        output_concat = transpose_output(output, self.num_heads)\n",
    "        return self.W_o(output_concat)\n",
    "    \n",
    "    # 总结：该函数实现了多头注意力的前向传播过程，通过线性变换对输入的查询、键、值进行变换，并利用多头注意力模块计算多头注意力。最终，将多头注意力的输出进行逆变换和线性变换得到最终的输出结果。"
   ]
  },
  {
   "attachments": {},
   "cell_type": "markdown",
   "id": "7651da0a",
   "metadata": {
    "origin_pos": 10
   },
   "source": [
    "为了能够[**使多个头并行计算**]，\n",
    "上面的`MultiHeadAttention`类将使用下面定义的两个转置函数。\n",
    "具体来说，`transpose_output`函数反转了`transpose_qkv`函数的操作。\n"
   ]
  },
  {
   "cell_type": "code",
   "execution_count": 3,
   "id": "b7330027",
   "metadata": {
    "execution": {
     "iopub.execute_input": "2022-12-07T16:54:04.954339Z",
     "iopub.status.busy": "2022-12-07T16:54:04.953881Z",
     "iopub.status.idle": "2022-12-07T16:54:04.960681Z",
     "shell.execute_reply": "2022-12-07T16:54:04.959640Z"
    },
    "origin_pos": 12,
    "tab": [
     "pytorch"
    ]
   },
   "outputs": [],
   "source": [
    "#@save\n",
    "# transpose_qkv 函数的作用是将输入张量进行维度调整，以适应多头注意力计算的要求。\n",
    "def transpose_qkv(X, num_heads):\n",
    "    \"\"\"为了多注意力头的并行计算而变换形状\"\"\"\n",
    "    # 输入X的形状:(batch_size，查询或者“键－值”对的个数，num_hiddens)\n",
    "    # 输出X的形状:(batch_size，查询或者“键－值”对的个数，num_heads，\n",
    "    # num_hiddens/num_heads)\n",
    "    X = X.reshape(X.shape[0], X.shape[1], num_heads, -1)\n",
    "\n",
    "    # 输出X的形状:(batch_size，num_heads，查询或者“键－值”对的个数,\n",
    "    # num_hiddens/num_heads)\n",
    "    X = X.permute(0, 2, 1, 3)\n",
    "\n",
    "    # 最终输出的形状:(batch_size*num_heads,查询或者“键－值”对的个数,\n",
    "    # num_hiddens/num_heads)\n",
    "    return X.reshape(-1, X.shape[2], X.shape[3])\n",
    "\n",
    "\n",
    "#@save\n",
    "# transpose_output 函数则是 transpose_qkv 函数的逆操作，用于将经过多头注意力计算的输出张量恢复到原始形状。\n",
    "def transpose_output(X, num_heads):\n",
    "    \"\"\"逆转transpose_qkv函数的操作\"\"\"\n",
    "    X = X.reshape(-1, num_heads, X.shape[1], X.shape[2])\n",
    "    X = X.permute(0, 2, 1, 3)\n",
    "    return X.reshape(X.shape[0], X.shape[1], -1)"
   ]
  },
  {
   "attachments": {},
   "cell_type": "markdown",
   "id": "0b6aff10",
   "metadata": {
    "origin_pos": 15
   },
   "source": [
    "下面使用键和值相同的小例子来[**测试**]我们编写的`MultiHeadAttention`类。\n",
    "多头注意力输出的形状是（`batch_size`，`num_queries`，`num_hiddens`）。\n"
   ]
  },
  {
   "cell_type": "code",
   "execution_count": 4,
   "id": "51deccc4",
   "metadata": {
    "execution": {
     "iopub.execute_input": "2022-12-07T16:54:04.964215Z",
     "iopub.status.busy": "2022-12-07T16:54:04.963461Z",
     "iopub.status.idle": "2022-12-07T16:54:04.990943Z",
     "shell.execute_reply": "2022-12-07T16:54:04.989832Z"
    },
    "origin_pos": 17,
    "tab": [
     "pytorch"
    ]
   },
   "outputs": [
    {
     "data": {
      "text/plain": [
       "MultiHeadAttention(\n",
       "  (attention): DotProductAttention(\n",
       "    (dropout): Dropout(p=0.5, inplace=False)\n",
       "  )\n",
       "  (W_q): Linear(in_features=100, out_features=100, bias=False)\n",
       "  (W_k): Linear(in_features=100, out_features=100, bias=False)\n",
       "  (W_v): Linear(in_features=100, out_features=100, bias=False)\n",
       "  (W_o): Linear(in_features=100, out_features=100, bias=False)\n",
       ")"
      ]
     },
     "execution_count": 4,
     "metadata": {},
     "output_type": "execute_result"
    }
   ],
   "source": [
    "# 根据给定的 num_hiddens 和 num_heads 创建了一个 MultiHeadAttention 对象，并将其设置为评估模式。\n",
    "# MultiHeadAttention 是一个多头注意力模块，它在计算注意力权重时使用了多个头，可以并行地计算多组注意力权重，并将它们线性变换后合并为最终的输出\n",
    "# 在这个例子中，设置了 num_hiddens=100 表示输入的查询、键和值的维度为 100，每个头的维度为 num_hiddens/num_heads = 20。num_heads=5 表示使用了 5 个注意力头。\n",
    "# 这个设置允许模型在多个维度上并行计算注意力权重，并从不同的注意力头中提取不同的关注信息。\n",
    "num_hiddens, num_heads = 100, 5\n",
    "attention = MultiHeadAttention(num_hiddens, num_hiddens, num_hiddens,\n",
    "                               num_hiddens, num_heads, 0.5)\n",
    "attention.eval()\n",
    "# 将模型设置为评估模式后，意味着模型在进行前向传播时不会应用任何随机性，如 dropout。通常在评估模型性能、生成预测结果时使用评估模式。"
   ]
  },
  {
   "cell_type": "code",
   "execution_count": 5,
   "id": "9658ae9f",
   "metadata": {
    "execution": {
     "iopub.execute_input": "2022-12-07T16:54:04.994206Z",
     "iopub.status.busy": "2022-12-07T16:54:04.993742Z",
     "iopub.status.idle": "2022-12-07T16:54:05.006054Z",
     "shell.execute_reply": "2022-12-07T16:54:05.004979Z"
    },
    "origin_pos": 20,
    "tab": [
     "pytorch"
    ]
   },
   "outputs": [
    {
     "data": {
      "text/plain": [
       "torch.Size([2, 4, 100])"
      ]
     },
     "execution_count": 5,
     "metadata": {},
     "output_type": "execute_result"
    }
   ],
   "source": [
    "# 在这段代码中，我们使用了一个具有多头注意力的注意力模型 attention。\n",
    "# 首先，定义了输入的一些维度信息：batch_size 表示批量大小，num_queries 表示每个样本中的查询个数，\n",
    "# num_kvpairs 表示每个样本中的键值对个数，valid_lens 是一个张量，表示每个样本中有效的查询个数。\n",
    "batch_size, num_queries = 2, 4\n",
    "num_kvpairs, valid_lens =  6, torch.tensor([3, 2])\n",
    "# 接下来，我们创建了输入张量 X 和 Y。其中，X 的形状为 (2, 4, 100)，表示有 2 个样本，每个样本包含 4 个查询，每个查询的维度为 100。\n",
    "# Y 的形状为 (2, 6, 100)，表示有 2 个样本，每个样本包含 6 个键值对，每个键值对的维度为 100\n",
    "X = torch.ones((batch_size, num_queries, num_hiddens))\n",
    "Y = torch.ones((batch_size, num_kvpairs, num_hiddens))\n",
    "# 然后，我们调用注意力模型 attention，传入 X、Y、Y 和 valid_lens，并获取输出结果。\n",
    "# 由于 attention(X, Y, Y, valid_lens) 的形状为 (2, 4, 100)，表示有 2 个样本，每个样本包含 4 个查询，每个查询对应的注意力加权值的维度为 100。\n",
    "attention(X, Y, Y, valid_lens).shape\n",
    "# 最后，我们通过 .shape 属性获取输出结果的形状，即 (2, 4, 100)，并打印出来。这个结果表示每个查询对应的注意力加权值的形状，可以在后续的计算和分析中使用。"
   ]
  },
  {
   "attachments": {},
   "cell_type": "markdown",
   "id": "ec18ac5b",
   "metadata": {
    "origin_pos": 22
   },
   "source": [
    "## 小结\n",
    "\n",
    "* 多头注意力融合了来自于多个注意力汇聚的不同知识，这些知识的不同来源于相同的查询、键和值的不同的子空间表示。\n",
    "* 基于适当的张量操作，可以实现多头注意力的并行计算。\n",
    "\n",
    "## 练习\n",
    "\n",
    "1. 分别可视化这个实验中的多个头的注意力权重。\n",
    "1. 假设有一个完成训练的基于多头注意力的模型，现在希望修剪最不重要的注意力头以提高预测速度。如何设计实验来衡量注意力头的重要性呢？\n"
   ]
  },
  {
   "attachments": {},
   "cell_type": "markdown",
   "id": "43f4552c",
   "metadata": {
    "origin_pos": 24,
    "tab": [
     "pytorch"
    ]
   },
   "source": [
    "[Discussions](https://discuss.d2l.ai/t/5758)\n"
   ]
  }
 ],
 "metadata": {
  "kernelspec": {
   "display_name": "d2l",
   "language": "python",
   "name": "python3"
  },
  "language_info": {
   "codemirror_mode": {
    "name": "ipython",
    "version": 3
   },
   "file_extension": ".py",
   "mimetype": "text/x-python",
   "name": "python",
   "nbconvert_exporter": "python",
   "pygments_lexer": "ipython3",
   "version": "3.9.16"
  }
 },
 "nbformat": 4,
 "nbformat_minor": 5
}
